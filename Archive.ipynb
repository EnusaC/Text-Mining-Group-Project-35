{
 "cells": [
  {
   "cell_type": "markdown",
   "metadata": {},
   "source": [
    "# When using twitter_test and twitter_training this is the code needed for preprocessing"
   ]
  },
  {
   "cell_type": "code",
   "execution_count": null,
   "metadata": {},
   "outputs": [],
   "source": [
    "sentiment_train_file = \"Datasets/Sentiment_Analysis/twitter_training.csv\"         \n",
    "sentiment_test1_file = \"Datasets/Sentiment_Analysis/twitter_test.csv\" \n",
    "sentiment_test2_file = \"Datasets/Test Sets/sentiment-topic-test.tsv\"\n",
    "\n",
    "# Load the training and test data\n",
    "sentiment_train_df = pd.read_csv(sentiment_train_file)\n",
    "sentiment_test1_df= pd.read_csv(sentiment_test1_file)\n",
    "\n",
    "# Drop duplicates based on the 'ID' column\n",
    "validation_data = sentiment_test1_df.drop_duplicates(subset='ID', keep='first')\n",
    "sentiment_train_df = sentiment_train_df.drop_duplicates(subset='ID', keep='first')\n",
    "\n",
    "# Remove rows with 'Irrelevant' in the third column\n",
    "sentiment_train_df = sentiment_train_df[sentiment_train_df.iloc[:, 2] != 'Irrelevant']\n",
    "sentiment_test1_df = sentiment_test1_df[sentiment_test1_df.iloc[:, 2] != 'Irrelevant']\n",
    "\n",
    "# Remove rows where the 'Text' column has more than 128 characters\n",
    "sentiment_train_df = sentiment_train_df[sentiment_train_df.iloc[:, 3].str.len() <= 128]\n",
    "sentiment_test1_df = sentiment_test1_df[sentiment_test1_df.iloc[:, 3].str.len() <= 128]\n",
    "\n",
    "# Rename the third column entries\n",
    "sentiment_train_df.iloc[:, 2] = sentiment_train_df.iloc[:, 2].replace({\n",
    "    'Positive': 'POS',\n",
    "    'Neutral': 'NEU',\n",
    "    'Negative': 'NEG'\n",
    "})\n",
    "\n",
    "sentiment_test1_df.iloc[:, 2] = sentiment_test1_df.iloc[:, 2].replace({\n",
    "    'Positive': 'POS',\n",
    "    'Neutral': 'NEU',\n",
    "    'Negative': 'NEG'\n",
    "})\n",
    "\n",
    "# Save the updated training data back to the file\n",
    "sentiment_train_df.to_csv(sentiment_train_file, index=False)\n",
    "sentiment_test1_df.to_csv(sentiment_test1_file, index=False)\n",
    "\n",
    "sentiment_test1_df.info()\n",
    "\n",
    "# # IGNORE FOR NOW\n",
    "\n",
    "# Load the sentiment test file into a DataFrame\n",
    "sentiment_test2_df = pd.read_csv(sentiment_test2_file, sep='\\t')\n",
    "\n",
    "# Rename and reorganize the columns\n",
    "sentiment_test2_df = sentiment_test2_df.rename(columns={\n",
    "    'sentence_id': 'ID',\n",
    "    'topic': 'Relevant Topic',\n",
    "    'sentiment': 'Sentiment',\n",
    "    'sentence': 'Text'\n",
    "})[['ID', 'Relevant Topic', 'Sentiment', 'Text']]\n",
    "\n",
    "# Rename the third column entries\n",
    "sentiment_test2_df.iloc[:, 2] = sentiment_test2_df.iloc[:, 2].replace({\n",
    "    'positive': 'POS',\n",
    "    'neutral': 'NEU',\n",
    "    'negative': 'NEG'\n",
    "})\n",
    "\n",
    "# Display the updated DataFrame\n",
    "print(sentiment_test2_df.head())"
   ]
  }
 ],
 "metadata": {
  "kernelspec": {
   "display_name": "TextMining",
   "language": "python",
   "name": "python3"
  },
  "language_info": {
   "name": "python",
   "version": "3.12.3"
  }
 },
 "nbformat": 4,
 "nbformat_minor": 2
}
