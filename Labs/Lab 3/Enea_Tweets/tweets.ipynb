{
 "cells": [
  {
   "cell_type": "markdown",
   "metadata": {},
   "source": [
    "# Preliminaries\n",
    "\n",
    "Install kagglehub first\n",
    "\n",
    "conda install kagglehub=0.3.10\n",
    "\n",
    "# 1. Importing Tweets Dataset\n"
   ]
  },
  {
   "cell_type": "code",
   "execution_count": 2,
   "metadata": {},
   "outputs": [
    {
     "name": "stderr",
     "output_type": "stream",
     "text": [
      "C:\\Users\\camis\\AppData\\Roaming\\Python\\Python312\\site-packages\\tqdm\\auto.py:21: TqdmWarning: IProgress not found. Please update jupyter and ipywidgets. See https://ipywidgets.readthedocs.io/en/stable/user_install.html\n",
      "  from .autonotebook import tqdm as notebook_tqdm\n"
     ]
    }
   ],
   "source": [
    "import kagglehub\n",
    "\n",
    "# # Download latest version\n",
    "# path = kagglehub.dataset_download(\"kazanova/sentiment140\")\n",
    "\n",
    "# print(\"Path to dataset files:\", path)"
   ]
  },
  {
   "cell_type": "code",
   "execution_count": 3,
   "metadata": {},
   "outputs": [],
   "source": [
    "import pandas as pd\n",
    "import csv\n",
    "\n",
    "path = \"C:/Users/camis/OneDrive - Vrije Universiteit Amsterdam/Text Mining for AI/ba-text-mining/lab_sessions/lab3/Enea_Tweets/training.1600000.processed.noemoticon.csv\"\n",
    "\n",
    "# Load the CSV file into a DataFrame\n",
    "tweets_df = pd.read_csv(path, encoding='latin-1')\n",
    "\n",
    "negative_tweets = []\n",
    "neutral_tweets = []\n",
    "positive_tweets = []\n",
    "\n",
    "\n",
    "with open(path, mode='r', newline='', encoding='latin-1') as f:\n",
    "    reader = csv.reader(f)\n",
    "    for row in reader:\n",
    "        # Check if the first column equals \"0\"\n",
    "        if row and row[0] == \"0\":\n",
    "            negative_tweets.append(row)\n",
    "        elif row and row[0] == \"2\":\n",
    "            neutral_tweets.append(row)\n",
    "        elif row and row[0] == \"4\":\n",
    "            positive_tweets.append(row)"
   ]
  },
  {
   "cell_type": "code",
   "execution_count": 4,
   "metadata": {},
   "outputs": [
    {
     "name": "stdout",
     "output_type": "stream",
     "text": [
      "Number of negative tweets: 800000\n",
      "Number of neutral tweets: 0\n",
      "Number of positive tweets: 800000\n"
     ]
    }
   ],
   "source": [
    "# negative_tweets[:5]\n",
    "# neutral_tweets[:5]\n",
    "# positive_tweets[:5]\n",
    "\n",
    "print(\"Number of negative tweets:\", len(negative_tweets))\n",
    "print(\"Number of neutral tweets:\", len(neutral_tweets))\n",
    "print(\"Number of positive tweets:\", len(positive_tweets))"
   ]
  },
  {
   "cell_type": "code",
   "execution_count": 5,
   "metadata": {},
   "outputs": [
    {
     "name": "stdout",
     "output_type": "stream",
     "text": [
      "50\n"
     ]
    }
   ],
   "source": [
    "import random\n",
    "\n",
    "# Suppose you already have these lists:\n",
    "# neutral_tweets, negative_tweets, positive_tweets\n",
    "\n",
    "# Create a new list to hold the final sample\n",
    "fifty_tweets = []\n",
    "\n",
    "# Randomly pick 0 entries from neutral\n",
    "# fifty_tweets += random.sample(neutral_tweets, 16)\n",
    "\n",
    "# Randomly pick 25 entries from negative\n",
    "fifty_tweets += random.sample(negative_tweets, 25)\n",
    "\n",
    "# Randomly pick 25 entries from positive\n",
    "fifty_tweets += random.sample(positive_tweets, 25)\n",
    "\n",
    "# Check the size of the new list\n",
    "print(len(fifty_tweets))  # Should be 50\n"
   ]
  },
  {
   "cell_type": "code",
   "execution_count": 6,
   "metadata": {},
   "outputs": [
    {
     "name": "stdout",
     "output_type": "stream",
     "text": [
      "Saved 50 tweets to my_tweets1.json\n"
     ]
    }
   ],
   "source": [
    "import json\n",
    "\n",
    "fifty_tweets_dict = {}\n",
    "\n",
    "# Build the JSON structure\n",
    "for i, row in enumerate(fifty_tweets, start=1):\n",
    "    sentiment_code = row[0]  # The first column (e.g., \"0\", \"2\", or \"4\")\n",
    "    tweet_text = row[-1]     # The last column (the text of the tweet)\n",
    "\n",
    "    # Map sentiment code to label\n",
    "    if sentiment_code == \"0\":\n",
    "        sentiment_label = \"Negative\"\n",
    "    elif sentiment_code == \"4\":\n",
    "        sentiment_label = \"Positive\"\n",
    "    else:\n",
    "        sentiment_label = \"Neutral\"\n",
    "\n",
    "    # Build the JSON entry\n",
    "    fifty_tweets_dict[str(i)] = {\n",
    "        \"sentiment_label\": sentiment_label,\n",
    "        \"text_of_tweet\": tweet_text,\n",
    "        \"tweet_url\": \"\"\n",
    "    }\n",
    "\n",
    "# Write to a new JSON file\n",
    "output_file = \"my_tweets1.json\"\n",
    "with open(output_file, \"w\", encoding=\"utf-8\") as f:\n",
    "    json.dump(fifty_tweets_dict, f, indent=4)\n",
    "\n",
    "print(f\"Saved {len(fifty_tweets_dict)} tweets to {output_file}\")\n"
   ]
  },
  {
   "cell_type": "markdown",
   "metadata": {},
   "source": [
    "# Neutral Tweets"
   ]
  },
  {
   "cell_type": "code",
   "execution_count": 8,
   "metadata": {},
   "outputs": [
    {
     "name": "stdout",
     "output_type": "stream",
     "text": [
      "Warning: Looks like you're using an outdated `kagglehub` version, please consider updating (latest version: 0.3.10)\n",
      "Downloading from https://www.kaggle.com/api/v1/datasets/download/yasserh/twitter-tweets-sentiment-dataset?dataset_version_number=1...\n"
     ]
    },
    {
     "name": "stderr",
     "output_type": "stream",
     "text": [
      "100%|██████████| 1.23M/1.23M [00:00<00:00, 1.98MB/s]"
     ]
    },
    {
     "name": "stdout",
     "output_type": "stream",
     "text": [
      "Extracting model files...\n",
      "Path to dataset files: C:\\Users\\camis\\.cache\\kagglehub\\datasets\\yasserh\\twitter-tweets-sentiment-dataset\\versions\\1\n"
     ]
    },
    {
     "name": "stderr",
     "output_type": "stream",
     "text": [
      "\n"
     ]
    }
   ],
   "source": [
    "# Download latest version\n",
    "path = kagglehub.dataset_download(\"yasserh/twitter-tweets-sentiment-dataset\")\n",
    "\n",
    "print(\"Path to dataset files:\", path)"
   ]
  },
  {
   "cell_type": "code",
   "execution_count": 26,
   "metadata": {},
   "outputs": [
    {
     "name": "stdout",
     "output_type": "stream",
     "text": [
      "[['cb774db0d1', ' I`d have responded, if I were going', 'I`d have responded, if I were going', 'neutral'], ['28b57f3990', 'http://www.dothebouncy.com/smf - some shameless plugging for the best Rangers forum on earth', 'http://www.dothebouncy.com/smf - some shameless plugging for the best Rangers forum on earth', 'neutral'], ['50e14c0bb8', 'Soooo high', 'Soooo high', 'neutral'], ['e050245fbd', ' Both of you', 'Both of you', 'neutral'], ['2339a9b08b', ' as much as i love to be hopeful, i reckon the chances are minimal =P i`m never gonna get my cake and stuff', 'as much as i love to be hopeful, i reckon the chances are minimal =P i`m never gonna get my cake and stuff', 'neutral']]\n",
      "[['neutral', ' I`d have responded, if I were going'], ['neutral', 'http://www.dothebouncy.com/smf - some shameless plugging for the best Rangers forum on earth'], ['neutral', 'Soooo high'], ['neutral', ' Both of you'], ['neutral', ' as much as i love to be hopeful, i reckon the chances are minimal =P i`m never gonna get my cake and stuff']]\n"
     ]
    }
   ],
   "source": [
    "neutral_tweets2 = []\n",
    "\n",
    "neutral_path= \"C:/Users/camis/OneDrive - Vrije Universiteit Amsterdam/Text Mining for AI/ba-text-mining/lab_sessions/lab3/Enea_Tweets/Tweets_for_neutral.csv\"\n",
    "\n",
    "with open(neutral_path, mode='r', newline='', encoding='latin-1') as f:\n",
    "    reader = csv.reader(f)\n",
    "    for row in reader:\n",
    "        # Check if the first column equals \"0\"\n",
    "        if row and row[-1] == \"neutral\":\n",
    "            neutral_tweets2.append(row)\n",
    "\n",
    "print(neutral_tweets2[:5])\n",
    "# Neutral Tweets2 has layout [tweet_id, tweet_text, selected_text, sentiment]\n",
    "new_neutral_tweets = [[row[-1], row[1]] for row in neutral_tweets2]\n",
    "print(new_neutral_tweets[:5])\n",
    "\n",
    "\n"
   ]
  },
  {
   "cell_type": "code",
   "execution_count": 27,
   "metadata": {},
   "outputs": [
    {
     "name": "stdout",
     "output_type": "stream",
     "text": [
      "Number of neutral tweets: 11118\n"
     ]
    }
   ],
   "source": [
    "print(\"Number of neutral tweets:\", len(neutral_tweets2))"
   ]
  },
  {
   "cell_type": "code",
   "execution_count": 28,
   "metadata": {},
   "outputs": [
    {
     "name": "stdout",
     "output_type": "stream",
     "text": [
      "50\n"
     ]
    }
   ],
   "source": [
    "import random\n",
    "\n",
    "# Suppose you already have these lists:\n",
    "# neutral_tweets, negative_tweets, positive_tweets\n",
    "\n",
    "# Create a new list to hold the final sample\n",
    "fifty_tweets = []\n",
    "\n",
    "# Randomly pick 16 entries from neutral\n",
    "fifty_tweets += random.sample(new_neutral_tweets, 16)\n",
    "\n",
    "# Randomly pick 17 entries from negative\n",
    "fifty_tweets += random.sample(negative_tweets, 17)\n",
    "\n",
    "# Randomly pick 17 entries from positive\n",
    "fifty_tweets += random.sample(positive_tweets, 17)\n",
    "\n",
    "# Check the size of the new list\n",
    "print(len(fifty_tweets))  # Should be 50\n"
   ]
  },
  {
   "cell_type": "code",
   "execution_count": 30,
   "metadata": {},
   "outputs": [
    {
     "name": "stdout",
     "output_type": "stream",
     "text": [
      "Saved 50 tweets to my_tweets.json\n"
     ]
    }
   ],
   "source": [
    "import json\n",
    "\n",
    "fifty_tweets_dict = {}\n",
    "\n",
    "# Build the JSON structure\n",
    "for i, row in enumerate(fifty_tweets, start=1):\n",
    "    sentiment_code = row[0]  # The first column (e.g., \"0\", \"2\", or \"4\")\n",
    "    tweet_text = row[-1]     # The last column (the text of the tweet)\n",
    "\n",
    "    # Map sentiment code to label\n",
    "    if sentiment_code == \"0\":\n",
    "        sentiment_label = \"Negative\"\n",
    "    elif sentiment_code == \"4\":\n",
    "        sentiment_label = \"Positive\"\n",
    "    elif sentiment_code == \"neutral\":\n",
    "        sentiment_label = \"Neutral\"\n",
    "\n",
    "    # Build the JSON entry\n",
    "    fifty_tweets_dict[str(i)] = {\n",
    "        \"sentiment_label\": sentiment_label,\n",
    "        \"text_of_tweet\": tweet_text,\n",
    "        \"tweet_url\": \"\"\n",
    "    }\n",
    "\n",
    "# Write to a new JSON file\n",
    "output_file = \"my_tweets.json\"\n",
    "with open(output_file, \"w\", encoding=\"utf-8\") as f:\n",
    "    json.dump(fifty_tweets_dict, f, indent=4)\n",
    "\n",
    "print(f\"Saved {len(fifty_tweets_dict)} tweets to {output_file}\")\n"
   ]
  }
 ],
 "metadata": {
  "kernelspec": {
   "display_name": "TextMining",
   "language": "python",
   "name": "python3"
  },
  "language_info": {
   "codemirror_mode": {
    "name": "ipython",
    "version": 3
   },
   "file_extension": ".py",
   "mimetype": "text/x-python",
   "name": "python",
   "nbconvert_exporter": "python",
   "pygments_lexer": "ipython3",
   "version": "3.12.3"
  }
 },
 "nbformat": 4,
 "nbformat_minor": 2
}
