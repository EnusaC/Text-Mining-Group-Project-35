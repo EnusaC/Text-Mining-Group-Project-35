{
 "cells": [
  {
   "cell_type": "markdown",
   "metadata": {},
   "source": [
    "# Lab3.4 Sentiment Classification using transformer models"
   ]
  },
  {
   "cell_type": "markdown",
   "metadata": {},
   "source": [
    "Copyright: Vrije Universiteit Amsterdam, Faculty of Humanities, CLTL"
   ]
  },
  {
   "cell_type": "markdown",
   "metadata": {},
   "source": [
    "This notebook explains how you can use a transformer model that is fine-tuned for sentiment analysis. Fine-tuned transformer models are published regularly on the huggingface platform: https://huggingface.co/models\n",
    "\n",
    "These models are very big (Gigabytes) and require a computer with sufficient memory to load. Furthermore, loading these models takes some time as well. It is also possible to copy such a model to your disk and to load the local copy. Still a substantial memory is needed to load it."
   ]
  },
  {
   "cell_type": "markdown",
   "metadata": {},
   "source": [
    "This notebook requires installing some deep learning packages: transformers, pytorch and simpletransformers. If you are not experienced with installing these packages, make sure you first define a virtual environment for python, activate this environment and install the packages in this enviroment.\n",
    "\n",
    "Please consult the Python documentation for installing such an enviroment:\n",
    "\n",
    "https://docs.python.org/3/library/venv.html\n",
    "\n",
    "After activating your enviroment you can install pytorch, transformers and simpletransformers from the command line. If you start this notebook within the same virtual environment you can also execute the next installation commands from your notebook. Once installed, you can comment out the next cell."
   ]
  },
  {
   "cell_type": "code",
   "execution_count": 1,
   "metadata": {},
   "outputs": [],
   "source": [
    "#!conda install pytorch cpuonly -c pytorch\n",
    "#!pip install transformers\n",
    "#!pip install simpletransformers"
   ]
  },
  {
   "cell_type": "markdown",
   "metadata": {},
   "source": [
    "Huggingface transfomers provides an option to create a **pipeline** to perform a NLP task with a pretrained model: \n",
    "\n",
    "\"The pipelines are a great and easy way to use models for inference. These pipelines are objects that abstract most of the complex code from the library, offering a simple API dedicated to several tasks, including Named Entity Recognition, Masked Language Modeling, Sentiment Analysis, Feature Extraction and Question Answering.\"\n",
    "\n",
    "More information can be found here: https://huggingface.co/transformers/v3.0.2/main_classes/pipelines.html\n",
    "\n",
    "We will use the pipeline module to load a fine-tuned model to perform senteiment analysis"
   ]
  },
  {
   "cell_type": "code",
   "execution_count": 2,
   "metadata": {},
   "outputs": [],
   "source": [
    "from transformers import pipeline"
   ]
  },
  {
   "cell_type": "markdown",
   "metadata": {},
   "source": [
    "We load a transformer model 'distilbert-base-uncased-finetuned-sst-2-english' that is fine-tuned for binary classification from the Hugging face repository:\n",
    "\n",
    "https://huggingface.co/models\n",
    "\n",
    "We need to load the model for the sequence classifcation and the tokenizer to convert the sentences into tokens according to the vocabulary of the model.\n",
    "\n",
    "Loading the model takes some time."
   ]
  },
  {
   "cell_type": "code",
   "execution_count": 3,
   "metadata": {},
   "outputs": [],
   "source": [
    "sentimentenglish = pipeline(\"sentiment-analysis\", \n",
    "                            model=\"distilbert-base-uncased-finetuned-sst-2-english\", \n",
    "                            tokenizer=\"distilbert-base-uncased-finetuned-sst-2-english\")"
   ]
  },
  {
   "cell_type": "markdown",
   "metadata": {},
   "source": [
    "We now created an instantiation of a pipeline that can tokenize any sentence, obtain a sententence embedding from the transformer language model and perform the **sentiment-analysis** task. Let's try it out on an example sentence."
   ]
  },
  {
   "cell_type": "code",
   "execution_count": 4,
   "metadata": {},
   "outputs": [],
   "source": [
    "sentence_pos_en = \"Nice hotel and the service is great\""
   ]
  },
  {
   "cell_type": "code",
   "execution_count": 5,
   "metadata": {},
   "outputs": [
    {
     "data": {
      "text/plain": [
       "[{'label': 'POSITIVE', 'score': 0.999881386756897}]"
      ]
     },
     "execution_count": 5,
     "metadata": {},
     "output_type": "execute_result"
    }
   ],
   "source": [
    "sentimentenglish(sentence_pos_en)"
   ]
  },
  {
   "cell_type": "code",
   "execution_count": 6,
   "metadata": {},
   "outputs": [],
   "source": [
    "sentence_neg_en = \"The rooms are dirty and the wifi does not work\""
   ]
  },
  {
   "cell_type": "code",
   "execution_count": 7,
   "metadata": {},
   "outputs": [
    {
     "data": {
      "text/plain": [
       "[{'label': 'NEGATIVE', 'score': 0.9997870326042175}]"
      ]
     },
     "execution_count": 7,
     "metadata": {},
     "output_type": "execute_result"
    }
   ],
   "source": [
    "sentimentenglish(sentence_neg_en)"
   ]
  },
  {
   "cell_type": "markdown",
   "metadata": {},
   "source": [
    "This is easy and seems to work very well. "
   ]
  },
  {
   "cell_type": "markdown",
   "metadata": {},
   "source": [
    "## Using a Dutch fine-tuned transformer model"
   ]
  },
  {
   "cell_type": "markdown",
   "metadata": {},
   "source": [
    "We can use a fine-tuned Dutch model for Dutch sentiment analysis by creating another pipeline. Again loading this model takes some time. Also note that after loading, both moodels are loaded in memory. So if you have issues loading, you may want to start over and try again just with the Dutch pipeline."
   ]
  },
  {
   "cell_type": "code",
   "execution_count": 8,
   "metadata": {},
   "outputs": [],
   "source": [
    "sentimentdutch = pipeline(\"sentiment-analysis\", \n",
    "                          model=\"wietsedv/bert-base-dutch-cased-finetuned-sentiment\", \n",
    "                          tokenizer=\"wietsedv/bert-base-dutch-cased-finetuned-sentiment\")"
   ]
  },
  {
   "cell_type": "markdown",
   "metadata": {},
   "source": [
    "We test it on two similar Dutch sentences:"
   ]
  },
  {
   "cell_type": "code",
   "execution_count": 9,
   "metadata": {},
   "outputs": [],
   "source": [
    "sentence_pos_nl=\"Mooi hotel en de service is geweldig\"\n",
    "sentence_neg_nl=\"De kamers zijn smerig en de wifi doet het niet\""
   ]
  },
  {
   "cell_type": "code",
   "execution_count": 10,
   "metadata": {},
   "outputs": [
    {
     "data": {
      "text/plain": [
       "[{'label': 'pos', 'score': 0.9999955892562866}]"
      ]
     },
     "execution_count": 10,
     "metadata": {},
     "output_type": "execute_result"
    }
   ],
   "source": [
    "sentimentdutch(sentence_pos_nl)"
   ]
  },
  {
   "cell_type": "code",
   "execution_count": 11,
   "metadata": {},
   "outputs": [
    {
     "data": {
      "text/plain": [
       "[{'label': 'neg', 'score': 0.6675186157226562}]"
      ]
     },
     "execution_count": 11,
     "metadata": {},
     "output_type": "execute_result"
    }
   ],
   "source": [
    "sentimentdutch(sentence_neg_nl)"
   ]
  },
  {
   "cell_type": "markdown",
   "metadata": {},
   "source": [
    "This seems to work fine too although the score for negative in the second example is much lower."
   ]
  },
  {
   "cell_type": "markdown",
   "metadata": {},
   "source": [
    "## Inspecting sentence representations using Simpletransformers"
   ]
  },
  {
   "cell_type": "markdown",
   "metadata": {},
   "source": [
    "The Simpletransformers package is built on top of the transformer package. It simplifies the use of transformers even more and provides excellent documentation: https://simpletransformers.ai\n",
    "\n",
    "The site explains also how you can fine-tune models yourself or even how to build models from scratch, assuming you have the computing power and the data.\n",
    "\n",
    "Here we are going to use it to inspect the sentence representations a bit more. Unfortunately, we need to load the English model again as an instantiation of a RepresentationModel. So if you have memory issues, please stop the kernel and start again from here.\n",
    "\n",
    "Loading the model may gave a lot of warnings. You can ignore these. If you do not have a graphical card (GPU) and or cuda installed to use the GPU you need to set use_cuda to False, as shown below."
   ]
  },
  {
   "cell_type": "code",
   "execution_count": 12,
   "metadata": {},
   "outputs": [
    {
     "name": "stderr",
     "output_type": "stream",
     "text": [
      "You are using a model of type distilbert to instantiate a model of type bert. This is not supported for all configurations of models and can yield errors.\n",
      "Some weights of BertForTextRepresentation were not initialized from the model checkpoint at distilbert-base-uncased-finetuned-sst-2-english and are newly initialized: ['embeddings.LayerNorm.bias', 'embeddings.LayerNorm.weight', 'embeddings.position_embeddings.weight', 'embeddings.token_type_embeddings.weight', 'embeddings.word_embeddings.weight', 'encoder.layer.0.attention.output.LayerNorm.bias', 'encoder.layer.0.attention.output.LayerNorm.weight', 'encoder.layer.0.attention.output.dense.bias', 'encoder.layer.0.attention.output.dense.weight', 'encoder.layer.0.attention.self.key.bias', 'encoder.layer.0.attention.self.key.weight', 'encoder.layer.0.attention.self.query.bias', 'encoder.layer.0.attention.self.query.weight', 'encoder.layer.0.attention.self.value.bias', 'encoder.layer.0.attention.self.value.weight', 'encoder.layer.0.intermediate.dense.bias', 'encoder.layer.0.intermediate.dense.weight', 'encoder.layer.0.output.LayerNorm.bias', 'encoder.layer.0.output.LayerNorm.weight', 'encoder.layer.0.output.dense.bias', 'encoder.layer.0.output.dense.weight', 'encoder.layer.1.attention.output.LayerNorm.bias', 'encoder.layer.1.attention.output.LayerNorm.weight', 'encoder.layer.1.attention.output.dense.bias', 'encoder.layer.1.attention.output.dense.weight', 'encoder.layer.1.attention.self.key.bias', 'encoder.layer.1.attention.self.key.weight', 'encoder.layer.1.attention.self.query.bias', 'encoder.layer.1.attention.self.query.weight', 'encoder.layer.1.attention.self.value.bias', 'encoder.layer.1.attention.self.value.weight', 'encoder.layer.1.intermediate.dense.bias', 'encoder.layer.1.intermediate.dense.weight', 'encoder.layer.1.output.LayerNorm.bias', 'encoder.layer.1.output.LayerNorm.weight', 'encoder.layer.1.output.dense.bias', 'encoder.layer.1.output.dense.weight', 'encoder.layer.10.attention.output.LayerNorm.bias', 'encoder.layer.10.attention.output.LayerNorm.weight', 'encoder.layer.10.attention.output.dense.bias', 'encoder.layer.10.attention.output.dense.weight', 'encoder.layer.10.attention.self.key.bias', 'encoder.layer.10.attention.self.key.weight', 'encoder.layer.10.attention.self.query.bias', 'encoder.layer.10.attention.self.query.weight', 'encoder.layer.10.attention.self.value.bias', 'encoder.layer.10.attention.self.value.weight', 'encoder.layer.10.intermediate.dense.bias', 'encoder.layer.10.intermediate.dense.weight', 'encoder.layer.10.output.LayerNorm.bias', 'encoder.layer.10.output.LayerNorm.weight', 'encoder.layer.10.output.dense.bias', 'encoder.layer.10.output.dense.weight', 'encoder.layer.11.attention.output.LayerNorm.bias', 'encoder.layer.11.attention.output.LayerNorm.weight', 'encoder.layer.11.attention.output.dense.bias', 'encoder.layer.11.attention.output.dense.weight', 'encoder.layer.11.attention.self.key.bias', 'encoder.layer.11.attention.self.key.weight', 'encoder.layer.11.attention.self.query.bias', 'encoder.layer.11.attention.self.query.weight', 'encoder.layer.11.attention.self.value.bias', 'encoder.layer.11.attention.self.value.weight', 'encoder.layer.11.intermediate.dense.bias', 'encoder.layer.11.intermediate.dense.weight', 'encoder.layer.11.output.LayerNorm.bias', 'encoder.layer.11.output.LayerNorm.weight', 'encoder.layer.11.output.dense.bias', 'encoder.layer.11.output.dense.weight', 'encoder.layer.2.attention.output.LayerNorm.bias', 'encoder.layer.2.attention.output.LayerNorm.weight', 'encoder.layer.2.attention.output.dense.bias', 'encoder.layer.2.attention.output.dense.weight', 'encoder.layer.2.attention.self.key.bias', 'encoder.layer.2.attention.self.key.weight', 'encoder.layer.2.attention.self.query.bias', 'encoder.layer.2.attention.self.query.weight', 'encoder.layer.2.attention.self.value.bias', 'encoder.layer.2.attention.self.value.weight', 'encoder.layer.2.intermediate.dense.bias', 'encoder.layer.2.intermediate.dense.weight', 'encoder.layer.2.output.LayerNorm.bias', 'encoder.layer.2.output.LayerNorm.weight', 'encoder.layer.2.output.dense.bias', 'encoder.layer.2.output.dense.weight', 'encoder.layer.3.attention.output.LayerNorm.bias', 'encoder.layer.3.attention.output.LayerNorm.weight', 'encoder.layer.3.attention.output.dense.bias', 'encoder.layer.3.attention.output.dense.weight', 'encoder.layer.3.attention.self.key.bias', 'encoder.layer.3.attention.self.key.weight', 'encoder.layer.3.attention.self.query.bias', 'encoder.layer.3.attention.self.query.weight', 'encoder.layer.3.attention.self.value.bias', 'encoder.layer.3.attention.self.value.weight', 'encoder.layer.3.intermediate.dense.bias', 'encoder.layer.3.intermediate.dense.weight', 'encoder.layer.3.output.LayerNorm.bias', 'encoder.layer.3.output.LayerNorm.weight', 'encoder.layer.3.output.dense.bias', 'encoder.layer.3.output.dense.weight', 'encoder.layer.4.attention.output.LayerNorm.bias', 'encoder.layer.4.attention.output.LayerNorm.weight', 'encoder.layer.4.attention.output.dense.bias', 'encoder.layer.4.attention.output.dense.weight', 'encoder.layer.4.attention.self.key.bias', 'encoder.layer.4.attention.self.key.weight', 'encoder.layer.4.attention.self.query.bias', 'encoder.layer.4.attention.self.query.weight', 'encoder.layer.4.attention.self.value.bias', 'encoder.layer.4.attention.self.value.weight', 'encoder.layer.4.intermediate.dense.bias', 'encoder.layer.4.intermediate.dense.weight', 'encoder.layer.4.output.LayerNorm.bias', 'encoder.layer.4.output.LayerNorm.weight', 'encoder.layer.4.output.dense.bias', 'encoder.layer.4.output.dense.weight', 'encoder.layer.5.attention.output.LayerNorm.bias', 'encoder.layer.5.attention.output.LayerNorm.weight', 'encoder.layer.5.attention.output.dense.bias', 'encoder.layer.5.attention.output.dense.weight', 'encoder.layer.5.attention.self.key.bias', 'encoder.layer.5.attention.self.key.weight', 'encoder.layer.5.attention.self.query.bias', 'encoder.layer.5.attention.self.query.weight', 'encoder.layer.5.attention.self.value.bias', 'encoder.layer.5.attention.self.value.weight', 'encoder.layer.5.intermediate.dense.bias', 'encoder.layer.5.intermediate.dense.weight', 'encoder.layer.5.output.LayerNorm.bias', 'encoder.layer.5.output.LayerNorm.weight', 'encoder.layer.5.output.dense.bias', 'encoder.layer.5.output.dense.weight', 'encoder.layer.6.attention.output.LayerNorm.bias', 'encoder.layer.6.attention.output.LayerNorm.weight', 'encoder.layer.6.attention.output.dense.bias', 'encoder.layer.6.attention.output.dense.weight', 'encoder.layer.6.attention.self.key.bias', 'encoder.layer.6.attention.self.key.weight', 'encoder.layer.6.attention.self.query.bias', 'encoder.layer.6.attention.self.query.weight', 'encoder.layer.6.attention.self.value.bias', 'encoder.layer.6.attention.self.value.weight', 'encoder.layer.6.intermediate.dense.bias', 'encoder.layer.6.intermediate.dense.weight', 'encoder.layer.6.output.LayerNorm.bias', 'encoder.layer.6.output.LayerNorm.weight', 'encoder.layer.6.output.dense.bias', 'encoder.layer.6.output.dense.weight', 'encoder.layer.7.attention.output.LayerNorm.bias', 'encoder.layer.7.attention.output.LayerNorm.weight', 'encoder.layer.7.attention.output.dense.bias', 'encoder.layer.7.attention.output.dense.weight', 'encoder.layer.7.attention.self.key.bias', 'encoder.layer.7.attention.self.key.weight', 'encoder.layer.7.attention.self.query.bias', 'encoder.layer.7.attention.self.query.weight', 'encoder.layer.7.attention.self.value.bias', 'encoder.layer.7.attention.self.value.weight', 'encoder.layer.7.intermediate.dense.bias', 'encoder.layer.7.intermediate.dense.weight', 'encoder.layer.7.output.LayerNorm.bias', 'encoder.layer.7.output.LayerNorm.weight', 'encoder.layer.7.output.dense.bias', 'encoder.layer.7.output.dense.weight', 'encoder.layer.8.attention.output.LayerNorm.bias', 'encoder.layer.8.attention.output.LayerNorm.weight', 'encoder.layer.8.attention.output.dense.bias', 'encoder.layer.8.attention.output.dense.weight', 'encoder.layer.8.attention.self.key.bias', 'encoder.layer.8.attention.self.key.weight', 'encoder.layer.8.attention.self.query.bias', 'encoder.layer.8.attention.self.query.weight', 'encoder.layer.8.attention.self.value.bias', 'encoder.layer.8.attention.self.value.weight', 'encoder.layer.8.intermediate.dense.bias', 'encoder.layer.8.intermediate.dense.weight', 'encoder.layer.8.output.LayerNorm.bias', 'encoder.layer.8.output.LayerNorm.weight', 'encoder.layer.8.output.dense.bias', 'encoder.layer.8.output.dense.weight', 'encoder.layer.9.attention.output.LayerNorm.bias', 'encoder.layer.9.attention.output.LayerNorm.weight', 'encoder.layer.9.attention.output.dense.bias', 'encoder.layer.9.attention.output.dense.weight', 'encoder.layer.9.attention.self.key.bias', 'encoder.layer.9.attention.self.key.weight', 'encoder.layer.9.attention.self.query.bias', 'encoder.layer.9.attention.self.query.weight', 'encoder.layer.9.attention.self.value.bias', 'encoder.layer.9.attention.self.value.weight', 'encoder.layer.9.intermediate.dense.bias', 'encoder.layer.9.intermediate.dense.weight', 'encoder.layer.9.output.LayerNorm.bias', 'encoder.layer.9.output.LayerNorm.weight', 'encoder.layer.9.output.dense.bias', 'encoder.layer.9.output.dense.weight', 'pooler.dense.bias', 'pooler.dense.weight']\n",
      "You should probably TRAIN this model on a down-stream task to be able to use it for predictions and inference.\n",
      "The tokenizer class you load from this checkpoint is not the same type as the class this function is called from. It may result in unexpected tokenization. \n",
      "The tokenizer class you load from this checkpoint is 'DistilBertTokenizer'. \n",
      "The class this function is called from is 'BertTokenizer'.\n"
     ]
    }
   ],
   "source": [
    "from simpletransformers.language_representation import RepresentationModel\n",
    "        \n",
    "#sentences = [\"Example sentence 1\", \"Example sentence 2\"]\n",
    "model = RepresentationModel(\n",
    "        model_type=\"bert\",\n",
    "        model_name=\"distilbert-base-uncased-finetuned-sst-2-english\",\n",
    "        use_cuda=False ## If you cannot use a GPU set this to false\n",
    "    )"
   ]
  },
  {
   "cell_type": "markdown",
   "metadata": {},
   "source": [
    "The Representationmodel allows you to obtain a sentence encoding. We do that next for the positive English example which consists of 7 words:"
   ]
  },
  {
   "cell_type": "code",
   "execution_count": 13,
   "metadata": {},
   "outputs": [
    {
     "data": {
      "text/plain": [
       "'Nice hotel and the service is great'"
      ]
     },
     "execution_count": 13,
     "metadata": {},
     "output_type": "execute_result"
    }
   ],
   "source": [
    "sentence_pos_en"
   ]
  },
  {
   "cell_type": "markdown",
   "metadata": {},
   "source": [
    "According to the simpletransformers API the input must be a list even when it is a single sentence. If you pass a string as input, it will turn it into a list of charcaters, each character as a separate sentence."
   ]
  },
  {
   "cell_type": "code",
   "execution_count": 14,
   "metadata": {},
   "outputs": [],
   "source": [
    "word_vectors = model.encode_sentences([sentence_pos_en], combine_strategy=None)"
   ]
  },
  {
   "cell_type": "markdown",
   "metadata": {},
   "source": [
    "The result is a numpy array with the shape (1, 9, 768) "
   ]
  },
  {
   "cell_type": "code",
   "execution_count": 15,
   "metadata": {},
   "outputs": [
    {
     "name": "stdout",
     "output_type": "stream",
     "text": [
      "<class 'numpy.ndarray'>\n",
      "(1, 9, 768)\n"
     ]
    }
   ],
   "source": [
    "print(type(word_vectors))\n",
    "print(word_vectors.shape)"
   ]
  },
  {
   "cell_type": "markdown",
   "metadata": {},
   "source": [
    "The first number indicates the number of sentences, which is **1** in our case. The next digit **9** indicates the number of tokens and the final digit is the number of dimension for each token according to the transformer model, which **768** in case of BERT models.\n",
    "\n",
    "We can ask for the full embedding representation for the first token:"
   ]
  },
  {
   "cell_type": "code",
   "execution_count": 16,
   "metadata": {},
   "outputs": [
    {
     "name": "stdout",
     "output_type": "stream",
     "text": [
      "Nr of dimensions for the mebdding of the first token: 768\n",
      "[-1.69003630e+00 -1.89324963e+00  3.09670150e-01 -1.43225956e+00\n",
      " -8.68033648e-01  3.09925854e-01  1.69105005e+00  4.42211688e-01\n",
      "  1.31047741e-01 -1.40802050e+00  1.57801878e+00  7.14634806e-02\n",
      " -4.11558777e-01 -7.66315877e-01  1.21816254e+00 -6.58740103e-01\n",
      " -1.12657654e+00  8.59702453e-02  3.79437119e-01  4.34266597e-01\n",
      " -9.86454546e-01  1.74537182e+00  1.16913593e+00 -9.37467992e-01\n",
      "  2.79787965e-02  8.92296791e-01 -3.93780798e-01 -8.06643248e-01\n",
      " -3.32269371e-01 -8.09605122e-01 -4.23504084e-01 -3.97745907e-01\n",
      "  1.91897228e-01  3.34777385e-01  3.39981496e-01 -5.53904593e-01\n",
      " -1.79899669e+00  3.69217813e-01 -7.24492431e-01 -1.32313895e+00\n",
      " -1.16748667e+00 -9.14832890e-01 -1.06966741e-01  1.06925821e+00\n",
      "  1.32194400e-01 -8.72865021e-01 -1.33414686e+00 -1.12885058e+00\n",
      " -5.52797258e-01 -1.09211409e+00 -4.71211582e-01 -1.04144526e+00\n",
      " -3.03254128e-01 -4.43049055e-03  9.04735506e-01 -1.59922078e-01\n",
      "  7.31828809e-01  3.43648717e-02  2.99973994e-01  3.97156775e-01\n",
      "  2.05148458e-01 -3.07878107e-01  1.40953255e+00 -1.03655481e+00\n",
      " -1.00040019e+00  8.51798952e-02 -8.36291194e-01 -3.86669517e-01\n",
      "  7.79360771e-01 -8.98598015e-01 -4.99188334e-01 -9.28665042e-01\n",
      "  9.74816084e-02 -6.88675404e-01  1.01529193e+00  6.43465161e-01\n",
      " -9.48386729e-01 -4.85290498e-01 -1.69277465e+00  6.12605929e-01\n",
      "  5.66309631e-01  4.89049792e-01  1.93051481e+00  2.92313874e-01\n",
      " -8.61784518e-01 -1.53142452e+00  7.05046296e-01 -1.13953984e+00\n",
      "  1.65296108e-01 -2.42300004e-01  1.19574952e+00  1.69150984e+00\n",
      " -8.06953132e-01 -1.63910592e+00 -2.30577135e+00 -7.73861527e-01\n",
      "  9.81872380e-02 -6.09881222e-01 -1.00576854e+00  1.11030006e+00\n",
      "  2.40756178e+00 -6.58574626e-02  2.44889927e+00 -1.22829735e+00\n",
      " -1.03302419e+00 -1.71928465e+00  2.61186033e-01  1.32838950e-01\n",
      "  4.02212620e-01  2.68349022e-01 -4.50437307e-01  7.02942014e-01\n",
      "  9.82567787e-01  2.95747489e-01 -1.13610979e-02 -1.06308258e+00\n",
      " -3.81757282e-02 -1.47481287e+00  8.27925622e-01  1.90770149e+00\n",
      "  9.41886246e-01 -1.28593290e+00 -1.02928109e-01  9.27580535e-01\n",
      "  1.97168186e-01 -4.92408544e-01 -1.77442431e+00  1.57313550e+00\n",
      "  9.14703980e-02  1.58911824e+00 -1.39026165e+00  3.93201746e-02\n",
      "  1.04543634e-01 -4.15912032e-01  4.77667421e-01  1.22664618e+00\n",
      " -3.74555498e-01 -6.23169839e-01  1.18490565e+00 -9.49069798e-01\n",
      "  8.39227557e-01  2.57880628e-01 -1.18898964e+00  4.16958272e-01\n",
      " -2.06791854e+00  2.33248994e-01  7.58459926e-01  1.66179287e+00\n",
      "  3.65166306e+00 -2.75361538e+00 -1.22371268e+00  9.81313407e-01\n",
      " -5.08516669e-01 -7.63748109e-01  7.42506981e-01 -4.10403132e-01\n",
      " -7.32204795e-01 -9.17637229e-01  2.08607286e-01 -9.52971697e-01\n",
      "  4.45368797e-01  1.41401517e+00  3.14401460e+00  2.72661145e-03\n",
      " -1.01271760e+00 -6.59597814e-02  1.18152404e+00 -1.34462917e+00\n",
      "  5.65517880e-02 -1.65285516e+00 -3.57548185e-02  1.43838668e+00\n",
      "  1.20058692e+00 -1.15393436e+00 -6.33142948e-01  1.86440396e+00\n",
      " -1.70199764e+00 -5.96360743e-01  7.09888637e-01  4.73996818e-01\n",
      "  7.71419466e-01 -2.38181278e-01  8.82514473e-03  8.39346722e-02\n",
      " -8.40161085e-01  6.74195230e-01 -3.08862120e-01 -3.42127681e-01\n",
      "  3.06003988e-01  9.36178148e-01 -9.80910599e-01  1.50204968e+00\n",
      " -4.73069906e-01  8.48795772e-01 -2.13812184e+00  9.88426626e-01\n",
      " -5.91803551e-01 -2.80786824e+00 -8.34557176e-01 -1.02554634e-01\n",
      "  8.08422863e-01 -1.06815982e+00  2.18236104e-01  5.82920194e-01\n",
      " -1.30555892e+00  1.71320140e+00  7.88946748e-02  9.72301722e-01\n",
      " -4.96407181e-01 -1.14868081e+00 -3.91458943e-02 -1.62020767e+00\n",
      "  1.13109369e-02 -2.89550215e-01  1.53888834e+00  1.43176222e+00\n",
      "  2.28483462e+00  1.76578581e+00 -1.88965046e+00  5.68204343e-01\n",
      " -1.12312901e+00  1.37277937e+00 -9.34730530e-01  1.95160687e-01\n",
      "  1.08470941e+00  3.99379253e-01 -1.08849418e+00 -9.63108361e-01\n",
      "  1.49706513e-01 -1.70349583e-01 -4.80803639e-01  1.23099756e+00\n",
      " -1.67259324e+00 -1.32194257e+00  1.64709437e+00 -1.32621205e+00\n",
      "  6.17159367e-01  2.39930764e-01  6.72660291e-01  1.05350125e+00\n",
      "  9.87927258e-01  2.06821889e-01  1.63980544e-01 -6.30141079e-01\n",
      " -2.20474359e-02 -7.03696787e-01  3.24970782e-01  1.73356915e+00\n",
      "  1.33542553e-01  7.72774041e-01  1.13990033e+00 -1.49616316e-01\n",
      "  6.99165881e-01  2.08949417e-01  7.13042259e-01 -4.58526880e-01\n",
      "  1.49810600e+00 -7.07447708e-01  1.78470369e-02 -1.06667590e+00\n",
      "  2.00110936e+00 -1.07494318e+00  5.25966823e-01 -5.35678864e-01\n",
      " -4.39969182e-01 -1.50273132e+00  6.38349295e-01  1.60826817e-01\n",
      "  4.15279610e-05  1.77684474e+00 -6.06707275e-01  4.30756181e-01\n",
      "  7.54826702e-03  8.54488015e-01 -2.89256424e-01  1.01860762e+00\n",
      " -1.96826324e-01  7.17653334e-01  9.48642045e-02  1.44308972e+00\n",
      "  4.00956362e-01  4.45154846e-01  8.49058270e-01  4.28112328e-01\n",
      "  4.09232557e-01  5.08397147e-02  1.06711924e+00 -5.64792216e-01\n",
      "  1.35186899e+00 -3.83874029e-01  4.07384723e-01 -1.80411124e+00\n",
      " -3.92143101e-01 -4.38981116e-01  1.44252050e+00  1.46699631e+00\n",
      " -4.84891176e-01 -2.30380431e-01 -4.22613233e-01  4.05365676e-01\n",
      " -2.09336305e+00 -3.61751467e-01 -1.91601431e+00 -1.90786034e-01\n",
      " -6.29543841e-01 -1.39001393e+00 -1.20778739e+00 -2.41420293e+00\n",
      " -1.09556520e+00  1.01977158e+00  1.36907530e+00 -5.66565454e-01\n",
      "  3.44244301e-01 -2.29379368e+00 -6.08343817e-02  1.39021859e-01\n",
      "  4.91348982e-01 -8.26640844e-01 -1.06290627e+00 -2.07078409e+00\n",
      "  2.60180449e+00  1.60999703e+00  8.96440327e-01  1.12172924e-01\n",
      " -4.63775843e-01 -6.39439762e-01 -1.03482887e-01 -1.33449286e-01\n",
      "  9.03241217e-01 -6.06569231e-01  1.29195526e-01  1.57136178e+00\n",
      " -2.94422925e-01 -9.74579513e-01  6.46486819e-01 -1.56015170e+00\n",
      "  7.61690512e-02  1.26359963e+00 -1.85539699e+00 -1.03554547e+00\n",
      "  2.60359734e-01  2.83938932e+00  1.02071130e+00 -1.53542984e+00\n",
      " -1.30216837e+00  2.26064369e-01  1.09008992e+00 -1.08785689e+00\n",
      " -2.31818289e-01 -1.16591966e+00 -1.62457768e-02  2.49969453e-01\n",
      "  4.51086730e-01 -3.37939203e-01  1.52982140e+00  1.76262987e+00\n",
      "  1.00168586e+00 -1.71993505e-02  2.67664641e-01  1.32233083e+00\n",
      "  1.32760048e+00  8.98905098e-01  6.86100172e-03 -9.40089762e-01\n",
      " -1.02851665e+00 -6.10967338e-01  2.27417409e-01 -1.99215579e+00\n",
      "  1.25342810e+00  1.44571126e+00 -6.04374588e-01  1.01774383e+00\n",
      " -1.23658884e+00  2.72299916e-01 -3.12752903e-01  6.01071119e-01\n",
      " -9.66401994e-01 -6.44527972e-01 -4.62552428e-01 -1.77870110e-01\n",
      "  6.76199868e-02 -1.73305845e+00 -1.37195516e+00 -1.89714956e+00\n",
      " -1.29715931e+00 -8.94355357e-01  6.23997808e-01  9.68484282e-01\n",
      " -5.02142370e-01  2.36878052e-01 -1.04371715e+00  1.05232179e+00\n",
      " -1.41196096e+00  2.61772990e+00  8.58801365e-01  4.39294875e-01\n",
      "  1.96285915e+00  7.01939046e-01  6.31022215e-01  5.71711838e-01\n",
      "  6.46915615e-01  1.71728060e-01  2.32809365e-01 -7.13170350e-01\n",
      "  3.03581297e-01 -8.93759429e-01  6.46994710e-01 -8.62176061e-01\n",
      "  6.04090095e-01  8.94497871e-01  3.28056723e-01  2.81838226e+00\n",
      " -1.04066968e+00  2.76722765e+00 -9.92696404e-01  7.40077317e-01\n",
      "  6.35360777e-01 -1.40684471e-01 -5.77111185e-01 -3.59395087e-01\n",
      " -7.73154438e-01 -3.34163815e-01 -8.65641594e-01  3.72240394e-01\n",
      "  1.11321747e+00  1.46265244e-02  2.09953249e-01 -6.05567038e-01\n",
      " -1.03322101e+00 -1.17838991e+00  3.85164887e-01 -1.79815662e+00\n",
      " -1.13735862e-01  7.50890613e-01  3.81314844e-01  1.46842563e+00\n",
      " -4.24551010e-01  3.30138206e-01 -1.76210880e-01  1.05369473e+00\n",
      "  9.24236178e-01 -3.68808538e-01 -1.32354185e-01  1.11136174e+00\n",
      "  1.33817166e-01  5.44842422e-01  1.24166146e-01  5.31730354e-02\n",
      " -2.40713388e-01 -8.45872283e-01  6.66188657e-01 -5.81475973e-01\n",
      "  2.03751802e+00  6.22893751e-01 -1.43421784e-01  1.06790388e+00\n",
      "  1.51257336e+00 -4.18322027e-01  1.86575472e+00  6.06836140e-01\n",
      " -5.61329544e-01 -8.63924086e-01  2.58106565e+00  1.45182765e+00\n",
      " -3.39264691e-01 -8.88526067e-03  2.03272313e-01 -1.13905025e+00\n",
      "  1.18101692e+00  3.08762580e-01  4.17823017e-01 -5.40384650e-02\n",
      "  6.19458675e-01  7.38914132e-01 -3.64336222e-01  4.08336669e-01\n",
      "  3.48752886e-01 -2.98827142e-01  5.50239384e-01 -1.09256947e+00\n",
      " -1.52441669e+00 -2.10288930e+00 -1.65594792e+00 -2.25635394e-01\n",
      "  2.27518097e-01  1.59850323e+00 -7.43435979e-01 -1.14098108e+00\n",
      " -1.17669988e+00 -6.64283991e-01  6.74420819e-02  4.92540598e-01\n",
      " -6.45280719e-01  1.55996382e-01  8.71898293e-01  9.40485179e-01\n",
      "  6.59997702e-01 -4.67144340e-01  8.05455685e-01  1.90289348e-01\n",
      "  7.23612428e-01 -2.13571131e-01 -1.90652251e+00 -9.97276247e-01\n",
      "  9.54426348e-01 -3.03401947e-01 -2.47452125e-01 -1.23903453e+00\n",
      "  1.89404979e-01  5.45269310e-01  8.73847902e-01 -7.70955920e-01\n",
      "  7.20787466e-01 -2.44056535e+00  7.74908781e-01  1.18528986e+00\n",
      " -1.52706087e+00  1.65430629e+00 -5.13237178e-01 -1.05170941e+00\n",
      " -4.86690514e-02  5.11868238e-01 -4.56933230e-01  7.85376251e-01\n",
      "  1.74580812e-02 -2.34189466e-01 -5.69834232e-01 -3.42598438e-01\n",
      " -4.53445166e-01  2.44735599e-01 -1.27927291e+00 -1.93682894e-01\n",
      " -1.00014424e+00 -8.59962285e-01 -1.14825654e+00 -7.61782646e-01\n",
      " -6.35668337e-01 -9.14391756e-01 -3.17549586e-01  7.98030317e-01\n",
      " -8.63577500e-02  1.70679259e+00  1.13745548e-01 -1.21950161e+00\n",
      "  1.57313442e+00  4.44537699e-01  8.78054976e-01  8.01890731e-01\n",
      " -6.48257792e-01 -1.61531568e-01  1.29793525e+00 -1.93314838e+00\n",
      "  5.26761353e-01 -1.09569633e+00  6.50225222e-01  2.85265654e-01\n",
      " -1.30454469e+00 -2.39876479e-01 -1.31586564e+00 -1.56661734e-01\n",
      " -1.90606105e+00 -2.59936988e-01 -1.87320501e-01  1.34185719e+00\n",
      "  7.49922469e-02 -5.21664679e-01 -2.46344313e-01 -8.80563140e-01\n",
      "  8.37059796e-01  3.93325835e-01 -8.95527303e-01  6.63739622e-01\n",
      "  1.86931342e-01  6.11010671e-01 -1.08205652e+00  1.12855995e+00\n",
      " -2.33858824e-01  5.82193956e-02 -1.12792957e+00 -4.91439849e-02\n",
      " -7.52399266e-02  1.39402223e+00  3.71115655e-02  1.16145253e+00\n",
      "  9.70771790e-01 -6.27685010e-01 -1.11151886e+00  8.77042413e-01\n",
      " -3.73173021e-02  6.84748888e-01 -1.73825693e+00 -3.79368365e-01\n",
      " -2.48566270e+00 -8.25345740e-02 -5.28710842e-01  1.39093649e+00\n",
      "  9.52643529e-02 -1.16876602e+00 -6.61225140e-01  1.22346199e+00\n",
      " -6.60932243e-01  7.09512830e-01  7.80946016e-01 -1.26307756e-01\n",
      "  1.08224463e+00 -1.37893930e-01 -1.67073548e+00 -1.54424548e+00\n",
      "  1.05164719e+00  8.51542532e-01 -3.62907916e-01  1.69520664e+00\n",
      "  1.30399570e-01 -3.81229192e-01 -6.04513772e-02  3.27522010e-01\n",
      "  8.54916453e-01 -1.53505492e+00 -1.79152682e-01  3.71864647e-01\n",
      " -1.22326350e+00  3.03890646e-01  1.63561070e+00  9.48742747e-01\n",
      " -4.06846739e-02 -1.15451550e+00  1.37617218e+00  5.02671123e-01\n",
      "  2.57182741e+00 -4.17666078e-01  3.27466637e-01 -5.98532498e-01\n",
      "  1.11855436e-02  1.65144905e-01 -1.09993017e+00  3.85230958e-01\n",
      "  7.77053714e-01  3.06609541e-01 -2.46174559e-01 -5.40956974e-01\n",
      "  7.71652639e-01  1.51687777e+00  2.71579683e-01  4.22009975e-01\n",
      " -1.02294898e+00 -7.01223791e-01 -5.69103599e-01 -6.82606936e-01\n",
      " -1.54988992e+00  6.52746260e-01 -7.02993214e-01  9.80871394e-02\n",
      "  1.83068395e+00 -1.18346168e-02  1.44308794e+00 -4.60729748e-01\n",
      "  1.69210091e-01 -6.62213787e-02 -1.09800768e+00  4.93499666e-01\n",
      " -7.49476850e-01 -5.89785218e-01 -9.28485453e-01  8.05395186e-01\n",
      "  9.28405464e-01 -8.83560240e-01 -1.15283310e+00 -4.35280979e-01\n",
      " -6.32274330e-01  1.16034079e+00  2.43850157e-01  5.48635840e-01\n",
      "  2.14707246e-03  2.07431722e+00  7.90938854e-01  8.11046779e-01\n",
      " -7.15669870e-01  6.47703707e-02 -5.42985439e-01  7.16432989e-01\n",
      " -1.42915750e+00 -7.88237453e-02  1.65187311e+00 -1.98071468e+00\n",
      " -3.34017485e-01 -1.56351531e+00 -3.48863125e-01  7.80772492e-02\n",
      " -1.69613409e+00 -1.45872581e+00  2.52904147e-01  1.01030219e+00\n",
      " -1.37122825e-01  9.98277366e-02  9.61642981e-01 -1.00714937e-01\n",
      "  4.16536301e-01 -5.10565698e-01  7.88900971e-01 -1.56599283e+00\n",
      " -1.17043471e-02 -9.74743724e-01  1.13888240e+00 -1.01358831e+00\n",
      " -3.26387823e-01 -1.55386949e+00 -4.82325256e-01  8.47084448e-02\n",
      " -9.14904237e-01  4.56082046e-01 -9.43901896e-01  1.39536107e+00\n",
      "  5.36397874e-01  1.71337295e+00  3.50995213e-01 -1.40618110e+00\n",
      "  7.10045278e-01  3.56155485e-01 -5.79518735e-01  1.35354817e+00\n",
      " -1.02801871e+00  4.27321762e-01 -5.57456076e-01  6.57240152e-01\n",
      "  3.19282301e-02  8.15523148e-01  3.71122777e-01 -8.80917847e-01\n",
      "  5.27113199e-01 -4.17117178e-01 -3.13100964e-01  1.72240472e+00\n",
      "  2.93898910e-01 -1.05537164e+00  4.76905197e-01  1.53382614e-01\n",
      "  3.59938204e-01  3.69756818e-01  1.09779763e+00  1.25336778e+00\n",
      " -1.22632468e+00 -1.11244452e+00  2.24788517e-01  1.39913297e+00\n",
      "  5.01153469e-01  1.43619275e+00  1.63943899e+00  1.11724460e+00\n",
      "  2.27717519e-01  1.75231469e+00 -2.39655435e-01 -8.09334457e-01\n",
      "  1.28269672e-01 -1.06455135e+00 -9.72578898e-02  1.92533302e+00\n",
      " -3.92258197e-01  3.58729899e-01  1.14748383e+00 -7.78332412e-01\n",
      " -8.41778338e-01  8.71396720e-01 -1.88185927e-02 -8.95937860e-01\n",
      " -2.70298310e-02  4.06884635e-03 -1.85099709e+00  3.85739774e-01]\n"
     ]
    }
   ],
   "source": [
    "print('Nr of dimensions for the mebdding of the first token:', len(word_vectors[0][0]))\n",
    "print(word_vectors[0][0])"
   ]
  },
  {
   "cell_type": "markdown",
   "metadata": {},
   "source": [
    "**WAIT** Our sentence has 7 words so why do we get 9 tokens here?"
   ]
  },
  {
   "cell_type": "markdown",
   "metadata": {},
   "source": [
    "We can  use the tokenizer of the model to get the token representation of the transformer and check it out."
   ]
  },
  {
   "cell_type": "code",
   "execution_count": 17,
   "metadata": {},
   "outputs": [
    {
     "data": {
      "text/plain": [
       "{'input_ids': [101, 100, 3309, 1998, 1996, 2326, 2003, 2307, 102], 'token_type_ids': [0, 0, 0, 0, 0, 0, 0, 0, 0], 'attention_mask': [1, 1, 1, 1, 1, 1, 1, 1, 1]}"
      ]
     },
     "execution_count": 17,
     "metadata": {},
     "output_type": "execute_result"
    }
   ],
   "source": [
    "tokenized_sentence = model.tokenizer(sentence_pos_en)\n",
    "tokenized_sentence"
   ]
  },
  {
   "cell_type": "markdown",
   "metadata": {},
   "source": [
    "Although our sentence has 7 words, we get 9 identifiers. We can use the **decode** function to convert them back to words:"
   ]
  },
  {
   "cell_type": "code",
   "execution_count": 18,
   "metadata": {},
   "outputs": [
    {
     "data": {
      "text/plain": [
       "'[CLS]'"
      ]
     },
     "execution_count": 18,
     "metadata": {},
     "output_type": "execute_result"
    }
   ],
   "source": [
    "model.tokenizer.decode(101)"
   ]
  },
  {
   "cell_type": "markdown",
   "metadata": {},
   "source": [
    "The first token is the special token **CLS** which is an abstract sentence representation. Let's check another one:"
   ]
  },
  {
   "cell_type": "code",
   "execution_count": 19,
   "metadata": {},
   "outputs": [
    {
     "data": {
      "text/plain": [
       "'hotel'"
      ]
     },
     "execution_count": 19,
     "metadata": {},
     "output_type": "execute_result"
    }
   ],
   "source": [
    "model.tokenizer.decode(3309)"
   ]
  },
  {
   "cell_type": "markdown",
   "metadata": {},
   "source": [
    "Allright, this a word from our sentence. Let's decode them all:"
   ]
  },
  {
   "cell_type": "code",
   "execution_count": null,
   "metadata": {},
   "outputs": [
    {
     "name": "stdout",
     "output_type": "stream",
     "text": [
      "101 [CLS]\n",
      "100 [UNK]\n",
      "3309 hotel\n",
      "1998 and\n",
      "1996 the\n",
      "2326 service\n",
      "2003 is\n",
      "2307 great\n",
      "102 [SEP]\n"
     ]
    },
    {
     "ename": "",
     "evalue": "",
     "output_type": "error",
     "traceback": [
      "\u001b[1;31mThe Kernel crashed while executing code in the current cell or a previous cell. \n",
      "\u001b[1;31mPlease review the code in the cell(s) to identify a possible cause of the failure. \n",
      "\u001b[1;31mClick <a href='https://aka.ms/vscodeJupyterKernelCrash'>here</a> for more info. \n",
      "\u001b[1;31mView Jupyter <a href='command:jupyter.viewOutput'>log</a> for further details."
     ]
    }
   ],
   "source": [
    "tokenid_list = tokenized_sentence['input_ids']\n",
    "for token_id in tokenid_list:\n",
    "    print(token_id, model.tokenizer.decode(token_id))"
   ]
  },
  {
   "cell_type": "markdown",
   "metadata": {},
   "source": [
    "The transformer model added the special tokens **CLS** and **SEP** but also represented our \"Nice\" with the **UNK** token. Any idea why? Check the name of the model we used....."
   ]
  },
  {
   "cell_type": "markdown",
   "metadata": {},
   "source": [
    "We used the uncased model, which means that for training all inoput was downcased."
   ]
  },
  {
   "cell_type": "markdown",
   "metadata": {},
   "source": [
    "# End of this notebook"
   ]
  },
  {
   "cell_type": "code",
   "execution_count": null,
   "metadata": {},
   "outputs": [],
   "source": []
  }
 ],
 "metadata": {
  "kernelspec": {
   "display_name": "TextMining",
   "language": "python",
   "name": "python3"
  },
  "language_info": {
   "codemirror_mode": {
    "name": "ipython",
    "version": 3
   },
   "file_extension": ".py",
   "mimetype": "text/x-python",
   "name": "python",
   "nbconvert_exporter": "python",
   "pygments_lexer": "ipython3",
   "version": "3.12.3"
  }
 },
 "nbformat": 4,
 "nbformat_minor": 4
}
