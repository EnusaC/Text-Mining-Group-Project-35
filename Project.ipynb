{
 "cells": [
  {
   "cell_type": "markdown",
   "metadata": {},
   "source": [
    "# Project \n",
    "\n",
    "## Project Description\n",
    "\n",
    "Dataset was last updated 1-8-2021.\n",
    "\n",
    "## Part 1: Data Retrieval & Preprocessing\n"
   ]
  },
  {
   "cell_type": "code",
   "execution_count": null,
   "metadata": {},
   "outputs": [],
   "source": [
    "# Import Libraries\n",
    "import os\n",
    "import json\n",
    "import pandas as pd\n",
    "import numpy as np\n",
    "import matplotlib.pyplot as plt\n",
    "import seaborn as sns\n",
    "import emoji\n",
    "\n",
    "import nltk\n",
    "from nltk.sentiment import vader\n",
    "from nltk.sentiment.vader import SentimentIntensityAnalyzer\n",
    "\n",
    "\n",
    "from datasets import load_dataset\n",
    "import transformers\n",
    "import simpletransformers\n",
    "from transformers import (\n",
    "    pipeline,\n",
    "    AutoTokenizer,\n",
    "    AutoModel,\n",
    ")\n",
    "from sklearn.metrics import classification_report\n",
    "\n",
    "\n",
    "### once you downloaded vader successfully you do not need to do this again.\n",
    "### You can command it out in your personal copy as I did below to skip this.\n",
    "\n",
    "# nltk.download('vader_lexicon', quiet=False)\n",
    "\n",
    "# Define file paths\n",
    "sentiment_train_file = \"Datasets/Sentiment_Analysis/twitter_training.csv\"         \n",
    "validation_file = \"Datasets/Sentiment_Analysis/twitter_validation.csv\" \n",
    "sentiment_test_file = \"Datasets/Test Sets/sentiment-topic-test.tsv\""
   ]
  },
  {
   "cell_type": "markdown",
   "metadata": {},
   "source": [
    "### Part 1.2 Sentiment Analysis Preprocessing"
   ]
  },
  {
   "cell_type": "code",
   "execution_count": 33,
   "metadata": {},
   "outputs": [],
   "source": [
    "# Load the training data\n",
    "sentiment_train_df = pd.read_csv(sentiment_train_file)\n",
    "sentiment_validation_df= pd.read_csv(validation_file)\n",
    "\n",
    "# Drop duplicates based on the 'ID' column\n",
    "validation_data = sentiment_validation_df.drop_duplicates(subset='ID', keep='first')\n",
    "sentiment_train_df = sentiment_train_df.drop_duplicates(subset='ID', keep='first')\n",
    "\n",
    "# Remove rows with 'Irrelevant' in the third column\n",
    "sentiment_train_df = sentiment_train_df[sentiment_train_df.iloc[:, 2] != 'Irrelevant']\n",
    "sentiment_validation_df = sentiment_validation_df[sentiment_validation_df.iloc[:, 2] != 'Irrelevant']\n",
    "\n",
    "# Rename the third column entries\n",
    "sentiment_train_df.iloc[:, 2] = sentiment_train_df.iloc[:, 2].replace({\n",
    "    'Positive': 'POS',\n",
    "    'Neutral': 'NEU',\n",
    "    'Negative': 'NEG'\n",
    "})\n",
    "\n",
    "# Save the updated training data back to the file\n",
    "sentiment_train_df.to_csv(sentiment_train_file, index=False)\n",
    "sentiment_validation_df.to_csv(validation_file, index=False)\n"
   ]
  },
  {
   "cell_type": "code",
   "execution_count": 34,
   "metadata": {},
   "outputs": [],
   "source": [
    "# Load the model\n",
    "sentimentenglish = pipeline(\"sentiment-analysis\", \n",
    "                            model=\"finiteautomata/bertweet-base-sentiment-analysis\", \n",
    "                            tokenizer=\"finiteautomata/bertweet-base-sentiment-analysis\")"
   ]
  },
  {
   "cell_type": "code",
   "execution_count": 35,
   "metadata": {},
   "outputs": [
    {
     "data": {
      "text/plain": [
       "[{'label': 'POS', 'score': 0.9918237328529358}]"
      ]
     },
     "execution_count": 35,
     "metadata": {},
     "output_type": "execute_result"
    }
   ],
   "source": [
    "sentence_pos_en = \"Nice hotel and the service is great\"\n",
    "\n",
    "sentimentenglish(sentence_pos_en)"
   ]
  }
 ],
 "metadata": {
  "kernelspec": {
   "display_name": "TextMining",
   "language": "python",
   "name": "python3"
  },
  "language_info": {
   "codemirror_mode": {
    "name": "ipython",
    "version": 3
   },
   "file_extension": ".py",
   "mimetype": "text/x-python",
   "name": "python",
   "nbconvert_exporter": "python",
   "pygments_lexer": "ipython3",
   "version": "3.12.3"
  }
 },
 "nbformat": 4,
 "nbformat_minor": 2
}
